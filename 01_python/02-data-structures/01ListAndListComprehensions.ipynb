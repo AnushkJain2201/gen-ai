{
 "cells": [
  {
   "cell_type": "code",
   "execution_count": 2,
   "metadata": {},
   "outputs": [
    {
     "name": "stdout",
     "output_type": "stream",
     "text": [
      "<class 'list'>\n"
     ]
    }
   ],
   "source": [
    "lst = []\n",
    "print(type(lst))"
   ]
  },
  {
   "cell_type": "code",
   "execution_count": 3,
   "metadata": {},
   "outputs": [
    {
     "name": "stdout",
     "output_type": "stream",
     "text": [
      "['Anushk', 'Aryan', 'Anshika']\n"
     ]
    }
   ],
   "source": [
    "names = [\"Anushk\", \"Aryan\", \"Anshika\"]\n",
    "print(names)"
   ]
  },
  {
   "cell_type": "code",
   "execution_count": 15,
   "metadata": {},
   "outputs": [
    {
     "name": "stdout",
     "output_type": "stream",
     "text": [
      "['Anushk', 23, True, ['Aryan', 'Anshika']]\n"
     ]
    }
   ],
   "source": [
    "# mixed list\n",
    "mixed_list = [\"Anushk\", 23, True, [\"Aryan\", \"Anshika\"]]\n",
    "print(mixed_list)"
   ]
  },
  {
   "cell_type": "code",
   "execution_count": 16,
   "metadata": {},
   "outputs": [
    {
     "name": "stdout",
     "output_type": "stream",
     "text": [
      "Anushk\n",
      "23\n",
      "True\n",
      "Aryan\n"
     ]
    }
   ],
   "source": [
    "# accessing list\n",
    "print(mixed_list[0])\n",
    "print(mixed_list[1])\n",
    "print(mixed_list[2])\n",
    "print(mixed_list[3][0])"
   ]
  },
  {
   "cell_type": "code",
   "execution_count": 17,
   "metadata": {},
   "outputs": [
    {
     "name": "stdout",
     "output_type": "stream",
     "text": [
      "[23, True, ['Aryan', 'Anshika']]\n"
     ]
    }
   ],
   "source": [
    "print(mixed_list[1:])"
   ]
  },
  {
   "cell_type": "code",
   "execution_count": 18,
   "metadata": {},
   "outputs": [
    {
     "name": "stdout",
     "output_type": "stream",
     "text": [
      "[23]\n"
     ]
    }
   ],
   "source": [
    "print(mixed_list[1:2])"
   ]
  },
  {
   "cell_type": "code",
   "execution_count": 19,
   "metadata": {},
   "outputs": [
    {
     "name": "stdout",
     "output_type": "stream",
     "text": [
      "['Aryan', 23, True, ['Aryan', 'Anshika']]\n",
      "['Aryan', 23, True, ['Aryan', 'Anshika', 'Ashley']]\n"
     ]
    }
   ],
   "source": [
    "## modidying the list elements\n",
    "mixed_list[0] = \"Aryan\"\n",
    "print(mixed_list)\n",
    "mixed_list[3].append(\"Ashley\")\n",
    "print(mixed_list)"
   ]
  },
  {
   "cell_type": "code",
   "execution_count": 21,
   "metadata": {},
   "outputs": [
    {
     "name": "stdout",
     "output_type": "stream",
     "text": [
      "[23, 'Aryan', ['Aryan', 'Anshika', 'Ashley'], 'Ashley', 'Ashley']\n",
      "[23, ['Aryan', 'Anshika', 'Ashley'], 'Ashley', 'Ashley']\n",
      "[23, 'Aryan', ['Aryan', 'Anshika', 'Ashley'], 'Ashley', 'Ashley']\n",
      "[23, 'Aryan', 'Ashley', 'Ashley']\n",
      "2\n",
      "2\n",
      "['Ashley', 'Ashley', 'Aryan', 23]\n"
     ]
    }
   ],
   "source": [
    "## list methods\n",
    "mixed_list.append(\"Ashley\")\n",
    "print(mixed_list)\n",
    "mixed_list.remove(\"Aryan\")\n",
    "print(mixed_list)\n",
    "mixed_list.insert(1, \"Aryan\")\n",
    "print(mixed_list)\n",
    "mixed_list.pop(2)\n",
    "print(mixed_list)\n",
    "inde = mixed_list.index(\"Ashley\")\n",
    "print(inde)\n",
    "cnt = mixed_list.count(\"Ashley\")\n",
    "print(cnt)\n",
    "mixed_list.reverse()\n",
    "print(mixed_list)"
   ]
  },
  {
   "cell_type": "code",
   "execution_count": 22,
   "metadata": {},
   "outputs": [],
   "source": [
    "mixed_list.clear()"
   ]
  },
  {
   "cell_type": "code",
   "execution_count": 23,
   "metadata": {},
   "outputs": [
    {
     "data": {
      "text/plain": [
       "[]"
      ]
     },
     "execution_count": 23,
     "metadata": {},
     "output_type": "execute_result"
    }
   ],
   "source": [
    "mixed_list"
   ]
  },
  {
   "cell_type": "code",
   "execution_count": 25,
   "metadata": {},
   "outputs": [
    {
     "name": "stdout",
     "output_type": "stream",
     "text": [
      "[2, 3, 4]\n",
      "[0, 1, 2, 3, 4]\n",
      "[5, 6, 7, 8, 9, 10]\n",
      "[0, 2, 4, 6, 8, 10]\n",
      "[10, 9, 8, 7, 6, 5, 4, 3, 2, 1, 0]\n"
     ]
    }
   ],
   "source": [
    "## slicing lists\n",
    "numbers = [0, 1, 2, 3, 4, 5, 6, 7, 8, 9, 10]\n",
    "print(numbers[2:5])\n",
    "print(numbers[:5])\n",
    "print(numbers[5:])\n",
    "print(numbers[::2])\n",
    "print(numbers[::-1])\n"
   ]
  },
  {
   "cell_type": "code",
   "execution_count": 26,
   "metadata": {},
   "outputs": [
    {
     "name": "stdout",
     "output_type": "stream",
     "text": [
      "0\n",
      "1\n",
      "2\n",
      "3\n",
      "4\n",
      "5\n",
      "6\n",
      "7\n",
      "8\n",
      "9\n",
      "10\n"
     ]
    }
   ],
   "source": [
    "## iterating lists\n",
    "for i in numbers:\n",
    "    print(i)"
   ]
  },
  {
   "cell_type": "code",
   "execution_count": 27,
   "metadata": {},
   "outputs": [
    {
     "name": "stdout",
     "output_type": "stream",
     "text": [
      "Index: 0, Number: 0\n",
      "Index: 1, Number: 1\n",
      "Index: 2, Number: 2\n",
      "Index: 3, Number: 3\n",
      "Index: 4, Number: 4\n",
      "Index: 5, Number: 5\n",
      "Index: 6, Number: 6\n",
      "Index: 7, Number: 7\n",
      "Index: 8, Number: 8\n",
      "Index: 9, Number: 9\n",
      "Index: 10, Number: 10\n"
     ]
    }
   ],
   "source": [
    "## enumerate functions to get the indices as well\n",
    "for i, number in enumerate(numbers):\n",
    "    print(f\"Index: {i}, Number: {number}\")\n"
   ]
  },
  {
   "cell_type": "code",
   "execution_count": 30,
   "metadata": {},
   "outputs": [
    {
     "name": "stdout",
     "output_type": "stream",
     "text": [
      "[0, 1, 4, 9, 16, 25, 36, 49, 64, 81]\n",
      "[0, 1, 4, 9, 16, 25, 36, 49, 64, 81]\n"
     ]
    }
   ],
   "source": [
    "## list comprehension\n",
    "lst = []\n",
    "for i in range(10):\n",
    "    lst.append(i**2)\n",
    "print(lst)\n",
    "\n",
    "compls = [x ** 2 for x in range(10)]\n",
    "print(compls)\n"
   ]
  },
  {
   "cell_type": "markdown",
   "metadata": {},
   "source": [
    "#### List comprehensions\n",
    "Basic syntax [expression for item in iterable]\n",
    "\n",
    "With conditional logic [expression for item in iterable if condition]"
   ]
  },
  {
   "cell_type": "code",
   "execution_count": 31,
   "metadata": {},
   "outputs": [
    {
     "name": "stdout",
     "output_type": "stream",
     "text": [
      "[0, 1, 4, 9, 16, 25, 36, 49, 64, 81]\n"
     ]
    }
   ],
   "source": [
    "## Basic list comprehension [expression for item in iterable]\n",
    "squares = [x**2 for x in range(10)]\n",
    "print(squares)"
   ]
  },
  {
   "cell_type": "code",
   "execution_count": 32,
   "metadata": {},
   "outputs": [
    {
     "name": "stdout",
     "output_type": "stream",
     "text": [
      "[0, 4, 16, 36, 64]\n"
     ]
    }
   ],
   "source": [
    "## with conditional logic [expression for item in iterable if condition]\n",
    "even_squares = [x**2 for x in range(10) if x % 2 == 0]\n",
    "print(even_squares)"
   ]
  },
  {
   "cell_type": "code",
   "execution_count": 33,
   "metadata": {},
   "outputs": [
    {
     "name": "stdout",
     "output_type": "stream",
     "text": [
      "[(1, 'a'), (1, 'b'), (1, 'c'), (1, 'd'), (2, 'a'), (2, 'b'), (2, 'c'), (2, 'd'), (3, 'a'), (3, 'b'), (3, 'c'), (3, 'd'), (4, 'a'), (4, 'b'), (4, 'c'), (4, 'd')]\n"
     ]
    }
   ],
   "source": [
    "## Nested list compreshensiopn\n",
    "lst1 = [1, 2, 3, 4]\n",
    "lst2 = ['a', 'b', 'c', 'd']\n",
    "combined = [(i, j) for i in lst1 for j in lst2]\n",
    "print(combined)"
   ]
  },
  {
   "cell_type": "code",
   "execution_count": 36,
   "metadata": {},
   "outputs": [
    {
     "name": "stdout",
     "output_type": "stream",
     "text": [
      "[8, 4, 1, 16]\n"
     ]
    }
   ],
   "source": [
    "## list comprehension with functions\n",
    "words = ['anoadhfb', 'bddd', 'c', 'dera aagte adge ']\n",
    "lengths = [len(word) for word in words]\n",
    "print(lengths)"
   ]
  },
  {
   "cell_type": "code",
   "execution_count": null,
   "metadata": {},
   "outputs": [],
   "source": []
  }
 ],
 "metadata": {
  "kernelspec": {
   "display_name": "Python 3",
   "language": "python",
   "name": "python3"
  },
  "language_info": {
   "codemirror_mode": {
    "name": "ipython",
    "version": 3
   },
   "file_extension": ".py",
   "mimetype": "text/x-python",
   "name": "python",
   "nbconvert_exporter": "python",
   "pygments_lexer": "ipython3",
   "version": "3.12.0"
  }
 },
 "nbformat": 4,
 "nbformat_minor": 2
}
