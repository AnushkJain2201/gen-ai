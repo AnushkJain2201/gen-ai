{
 "cells": [
  {
   "cell_type": "code",
   "execution_count": 1,
   "metadata": {},
   "outputs": [
    {
     "name": "stdout",
     "output_type": "stream",
     "text": [
      "['clean the house', 'take a shower', 'take a meet']\n"
     ]
    }
   ],
   "source": [
    "## Example 1: Manage a To Do list\n",
    "to_do = [\"buy groceries\", \"clean the house\", \"pay bills\"]\n",
    "\n",
    "## Adding more task\n",
    "to_do.append(\"take a shower\")\n",
    "to_do.append(\"take a meet\")\n",
    "\n",
    "## Removing a task\n",
    "del to_do[2]\n",
    "to_do.remove(\"buy groceries\")\n",
    "\n",
    "print(to_do)"
   ]
  },
  {
   "cell_type": "code",
   "execution_count": null,
   "metadata": {},
   "outputs": [],
   "source": []
  }
 ],
 "metadata": {
  "kernelspec": {
   "display_name": "Python 3",
   "language": "python",
   "name": "python3"
  },
  "language_info": {
   "codemirror_mode": {
    "name": "ipython",
    "version": 3
   },
   "file_extension": ".py",
   "mimetype": "text/x-python",
   "name": "python",
   "nbconvert_exporter": "python",
   "pygments_lexer": "ipython3",
   "version": "3.12.0"
  }
 },
 "nbformat": 4,
 "nbformat_minor": 2
}
