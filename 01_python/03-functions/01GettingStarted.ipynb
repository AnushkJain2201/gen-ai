{
 "cells": [
  {
   "cell_type": "code",
   "execution_count": 1,
   "metadata": {},
   "outputs": [
    {
     "name": "stdout",
     "output_type": "stream",
     "text": [
      "False\n"
     ]
    }
   ],
   "source": [
    "def is_even(num):\n",
    "    if(num % 2 == 0):\n",
    "        return True\n",
    "    else:\n",
    "        return False\n",
    "\n",
    "print(is_even(5))  # Output: False"
   ]
  },
  {
   "cell_type": "code",
   "execution_count": 5,
   "metadata": {},
   "outputs": [
    {
     "name": "stdout",
     "output_type": "stream",
     "text": [
      "Hello, AJ! and 22\n",
      "Hello, tth! and 23\n"
     ]
    }
   ],
   "source": [
    "# default parameters\n",
    "def greet(num, name=\"tth\"): \n",
    "    print(f\"Hello, {name}! and {num}\")\n",
    "\n",
    "greet(22, \"AJ\")\n",
    "greet(23)"
   ]
  },
  {
   "cell_type": "code",
   "execution_count": 6,
   "metadata": {},
   "outputs": [
    {
     "name": "stdout",
     "output_type": "stream",
     "text": [
      "(2, 3, 4, 5, 6, 7, 8, 9)\n",
      "2\n",
      "3\n",
      "4\n",
      "5\n",
      "6\n",
      "7\n",
      "8\n",
      "9\n"
     ]
    }
   ],
   "source": [
    "## Variable length arguments\n",
    "## postional and keyword arguments\n",
    "\n",
    "## positional\n",
    "def print_numbers(*args):\n",
    "    print(args)\n",
    "    for num in args:\n",
    "        print(num)\n",
    "\n",
    "print_numbers(2, 3, 4, 5, 6, 7, 8, 9)"
   ]
  },
  {
   "cell_type": "code",
   "execution_count": 7,
   "metadata": {},
   "outputs": [
    {
     "name": "stdout",
     "output_type": "stream",
     "text": [
      "{'name': 'John Doe', 'age': 34, 'city': 'New York'}\n",
      "name: John Doe\n",
      "age: 34\n",
      "city: New York\n"
     ]
    }
   ],
   "source": [
    "## keyword arguments\n",
    "def print_details(**kwargs):\n",
    "    print(kwargs)\n",
    "    for key, value in kwargs.items():\n",
    "        print(f\"{key}: {value}\")\n",
    "\n",
    "print_details(name=\"John Doe\", age=34, city=\"New York\")"
   ]
  },
  {
   "cell_type": "code",
   "execution_count": 8,
   "metadata": {},
   "outputs": [
    {
     "name": "stdout",
     "output_type": "stream",
     "text": [
      "Value: 1\n",
      "Value: 2\n",
      "Value: 3\n",
      "Value: 4\n",
      "Value: 5\n",
      "name: John Doe\n",
      "age: 34\n",
      "city: New York\n"
     ]
    }
   ],
   "source": [
    "def details(*args, **kwargs):\n",
    "    for val in args:\n",
    "        print(f\"Value: {val}\")\n",
    "    for key, value in kwargs.items():\n",
    "        print(f\"{key}: {value}\")\n",
    "\n",
    "details(1, 2, 3, 4, 5, name=\"John Doe\", age=34, city=\"New York\")"
   ]
  },
  {
   "cell_type": "code",
   "execution_count": 9,
   "metadata": {},
   "outputs": [
    {
     "name": "stdout",
     "output_type": "stream",
     "text": [
      "True\n"
     ]
    }
   ],
   "source": [
    "## function to check whether the password is strong or not\n",
    "def is_strong_password(password):\n",
    "    if(len(password) < 8):\n",
    "        return False\n",
    "    if not any(char.isdigit() for char in password):\n",
    "        return False\n",
    "    if not any(char.islower() for char in password):\n",
    "        return False\n",
    "    if(not any(char.isupper() for char in password)):\n",
    "        return False\n",
    "    if not any(char in \"!@#$%^&*()-_=+[{]};:,.<>/?\" for char in password):\n",
    "        return False\n",
    "    \n",
    "    return True\n",
    "\n",
    "print(is_strong_password(\"Password123!\")) # True"
   ]
  },
  {
   "cell_type": "code",
   "execution_count": 10,
   "metadata": {},
   "outputs": [],
   "source": [
    "# Calculate the total cost of items in a shopping cart\n",
    "def calculate_total_cost(items):\n",
    "    total_cost = 0\n",
    "    for item in items:\n",
    "        if isinstance(item, dict):\n",
    "            total_cost += item.get(\"price\", 0) * item.get(\"quantity\", 1)\n",
    "        else:\n",
    "            total_cost += item\n",
    "    return total_cost"
   ]
  },
  {
   "cell_type": "code",
   "execution_count": 13,
   "metadata": {},
   "outputs": [
    {
     "name": "stdout",
     "output_type": "stream",
     "text": [
      "True\n"
     ]
    }
   ],
   "source": [
    "# to check if a string is a palindrome\n",
    "def is_palindrome(s):\n",
    "    s = s.lower().replace(\" \", \"\")\n",
    "    return s == s[::-1]\n",
    "\n",
    "print(is_palindrome(\"aba\")) # True"
   ]
  },
  {
   "cell_type": "code",
   "execution_count": 14,
   "metadata": {},
   "outputs": [
    {
     "name": "stdout",
     "output_type": "stream",
     "text": [
      "120\n"
     ]
    }
   ],
   "source": [
    "## factorial\n",
    "def factorial(n):\n",
    "    if n == 0:\n",
    "        return 1\n",
    "    else:\n",
    "        return n * factorial(n-1)\n",
    "    \n",
    "\n",
    "print(factorial(5)) # 120"
   ]
  },
  {
   "cell_type": "code",
   "execution_count": 15,
   "metadata": {},
   "outputs": [
    {
     "name": "stdout",
     "output_type": "stream",
     "text": [
      "{'its': 1, 'a': 1, 'beautiful': 2, 'day': 2, 'and': 1, 'I': 1, 'am': 1, 'not': 1, 'here': 1, 'to': 1, 'see': 1, 'it': 1, 'like': 1, 'really': 1}\n"
     ]
    }
   ],
   "source": [
    "# function to read a file and count the frequency of each word\n",
    "def count_word_frequency(file_path):\n",
    "    word_count = {}\n",
    "    with open(file_path, \"r\") as file:\n",
    "        for line in file:\n",
    "            words = line.split();\n",
    "            for word in words:\n",
    "                word = word.strip('.,!?:;\"\\'')\n",
    "                word_count[word] = word_count.get(word, 0) + 1\n",
    "    return word_count\n",
    "\n",
    "print(count_word_frequency(\"sample.txt\"))"
   ]
  },
  {
   "cell_type": "code",
   "execution_count": null,
   "metadata": {},
   "outputs": [],
   "source": []
  }
 ],
 "metadata": {
  "kernelspec": {
   "display_name": "Python 3",
   "language": "python",
   "name": "python3"
  },
  "language_info": {
   "codemirror_mode": {
    "name": "ipython",
    "version": 3
   },
   "file_extension": ".py",
   "mimetype": "text/x-python",
   "name": "python",
   "nbconvert_exporter": "python",
   "pygments_lexer": "ipython3",
   "version": "3.12.0"
  }
 },
 "nbformat": 4,
 "nbformat_minor": 2
}
