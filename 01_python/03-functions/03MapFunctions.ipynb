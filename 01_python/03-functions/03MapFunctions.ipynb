{
 "cells": [
  {
   "cell_type": "code",
   "execution_count": 1,
   "metadata": {},
   "outputs": [
    {
     "data": {
      "text/plain": [
       "[1, 4, 9, 16, 25, 36, 49, 64, 81]"
      ]
     },
     "execution_count": 1,
     "metadata": {},
     "output_type": "execute_result"
    }
   ],
   "source": [
    "## map function\n",
    "# the map() function applies a given function to all items in an input field(or any other iterator) and returns a map object. This is particularly useful for transforming data in a list comprehensively.\n",
    "\n",
    "numbers = [1, 2, 3, 4, 5,6, 7, 8, 9]\n",
    "\n",
    "list(map(lambda x: x**2, numbers))"
   ]
  },
  {
   "cell_type": "code",
   "execution_count": 2,
   "metadata": {},
   "outputs": [
    {
     "data": {
      "text/plain": [
       "[66, 132, 198, 264, 330, 396, 462, 528, 594]"
      ]
     },
     "execution_count": 2,
     "metadata": {},
     "output_type": "execute_result"
    }
   ],
   "source": [
    "# map function will return a map object which is a iterable and can be converted to a list\n",
    "list(map(lambda x: x*66, numbers))"
   ]
  },
  {
   "cell_type": "code",
   "execution_count": 4,
   "metadata": {},
   "outputs": [
    {
     "name": "stdout",
     "output_type": "stream",
     "text": [
      "[5, 7, 9]\n"
     ]
    }
   ],
   "source": [
    "# map multiple iterables\n",
    "number1 = [1, 2, 3]\n",
    "number2 = [4, 5, 6]\n",
    "\n",
    "added_numbers = list(map(lambda x, y: x + y, number1, number2 ))\n",
    "print(added_numbers)"
   ]
  },
  {
   "cell_type": "code",
   "execution_count": 5,
   "metadata": {},
   "outputs": [
    {
     "name": "stdout",
     "output_type": "stream",
     "text": [
      "[1, 2, 3, 4, 5]\n"
     ]
    }
   ],
   "source": [
    "# map to convert a list of string to integers\n",
    "string_numbers = ['1', '2', '3', '4', '5']\n",
    "integer_numbers = list(map(int, string_numbers))\n",
    "print(integer_numbers)"
   ]
  },
  {
   "cell_type": "code",
   "execution_count": 6,
   "metadata": {},
   "outputs": [
    {
     "name": "stdout",
     "output_type": "stream",
     "text": [
      "['APPLE', 'ORANGE', 'CHERRY']\n"
     ]
    }
   ],
   "source": [
    "words = ['apple', 'orange', 'cherry']\n",
    "upper_words = list(map(str.upper, words))\n",
    "print(upper_words)"
   ]
  },
  {
   "cell_type": "code",
   "execution_count": 7,
   "metadata": {},
   "outputs": [
    {
     "name": "stdout",
     "output_type": "stream",
     "text": [
      "['John', 'Jane', 'Mike']\n"
     ]
    }
   ],
   "source": [
    "def get_name(person):\n",
    "    return person['name']\n",
    "\n",
    "people = [{'name': 'John', 'age': 25}, {'name': 'Jane', 'age': 30}, {'name': 'Mike', 'age': 28}]\n",
    "\n",
    "names = list(map(get_name, people))\n",
    "print(names)"
   ]
  },
  {
   "cell_type": "code",
   "execution_count": null,
   "metadata": {},
   "outputs": [],
   "source": []
  }
 ],
 "metadata": {
  "kernelspec": {
   "display_name": "Python 3",
   "language": "python",
   "name": "python3"
  },
  "language_info": {
   "codemirror_mode": {
    "name": "ipython",
    "version": 3
   },
   "file_extension": ".py",
   "mimetype": "text/x-python",
   "name": "python",
   "nbconvert_exporter": "python",
   "pygments_lexer": "ipython3",
   "version": "3.12.0"
  }
 },
 "nbformat": 4,
 "nbformat_minor": 2
}
