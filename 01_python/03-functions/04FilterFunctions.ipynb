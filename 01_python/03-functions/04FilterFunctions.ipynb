{
 "cells": [
  {
   "cell_type": "markdown",
   "metadata": {},
   "source": [
    "## The filter function in python\n",
    "\n",
    "the filter() function constructs a iterator from elements of an iterable for which a function returns true. It is used to filter out items from a list (or any other iterable) based on the condition"
   ]
  },
  {
   "cell_type": "code",
   "execution_count": 1,
   "metadata": {},
   "outputs": [
    {
     "name": "stdout",
     "output_type": "stream",
     "text": [
      "[2, 4, 6, 8]\n"
     ]
    }
   ],
   "source": [
    "def even(num):\n",
    "    return num%2 == 0\n",
    "\n",
    "numbers = [1, 2, 3, 4, 5, 6, 7, 8, 9]\n",
    "filtered_numbers = list(filter(even, numbers))\n",
    "print(filtered_numbers)  # Output: [2, 4, 6, 8]"
   ]
  },
  {
   "cell_type": "code",
   "execution_count": 2,
   "metadata": {},
   "outputs": [
    {
     "name": "stdout",
     "output_type": "stream",
     "text": [
      "[6, 7, 8, 9]\n"
     ]
    }
   ],
   "source": [
    "# filter with a lambda function\n",
    "greater_than_5 = list(filter(lambda x: x > 5, numbers))\n",
    "print(greater_than_5)  # Output: [6, 7, 8, 9]"
   ]
  },
  {
   "cell_type": "code",
   "execution_count": 3,
   "metadata": {},
   "outputs": [
    {
     "name": "stdout",
     "output_type": "stream",
     "text": [
      "[6, 8]\n"
     ]
    }
   ],
   "source": [
    "## filter with a lambda function and muiltiple condition\n",
    "multiple_conditions = list(filter(lambda x: x > 5 and x % 2 == 0, numbers))\n",
    "print(multiple_conditions)  # Output: [6, 8]"
   ]
  },
  {
   "cell_type": "code",
   "execution_count": 5,
   "metadata": {},
   "outputs": [
    {
     "name": "stdout",
     "output_type": "stream",
     "text": [
      "[{'name': 'John', 'age': 28}, {'name': 'Alice', 'age': 32}]\n"
     ]
    }
   ],
   "source": [
    "## apply filter to check whether age is greater than 25 in dict\n",
    "people = [{'name': 'John', 'age': 28}, {'name': 'Alice', 'age': 32}, {'name': 'Bob', 'age': 25}]\n",
    "filtered_people = list(filter(lambda x: x['age'] > 25, people))\n",
    "print(filtered_people)  # Output: [{'name': 'Alice', 'age': 32}, {'name': 'Bob', 'age': 25}]"
   ]
  },
  {
   "cell_type": "code",
   "execution_count": null,
   "metadata": {},
   "outputs": [],
   "source": []
  }
 ],
 "metadata": {
  "kernelspec": {
   "display_name": "Python 3",
   "language": "python",
   "name": "python3"
  },
  "language_info": {
   "codemirror_mode": {
    "name": "ipython",
    "version": 3
   },
   "file_extension": ".py",
   "mimetype": "text/x-python",
   "name": "python",
   "nbconvert_exporter": "python",
   "pygments_lexer": "ipython3",
   "version": "3.12.0"
  }
 },
 "nbformat": 4,
 "nbformat_minor": 2
}
