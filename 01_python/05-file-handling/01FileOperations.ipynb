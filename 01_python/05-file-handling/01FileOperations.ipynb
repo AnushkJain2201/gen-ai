{
 "cells": [
  {
   "cell_type": "markdown",
   "metadata": {},
   "source": [
    "## File Operations - Read and write files\n",
    "\n",
    "File handling is crucial part of any programming language. Python provides built-in functions and methods to read and write files, both text and binary files. This lesson will cover the basics of handling, including reading and writing text files, and binary files"
   ]
  },
  {
   "cell_type": "code",
   "execution_count": 3,
   "metadata": {},
   "outputs": [
    {
     "name": "stdout",
     "output_type": "stream",
     "text": [
      "raju ae raju beta\n",
      "maarunga itna pata nahi kitna\n",
      "say my name\n",
      "you are heisenberg\n",
      "you are goddamn right\n",
      "<class 'str'>\n"
     ]
    }
   ],
   "source": [
    "## read a whole file\n",
    "with open('sample.txt', \"r\") as file:\n",
    "\n",
    "    # this read function will read the whole contents of the file\n",
    "    content = file.read()\n",
    "    print(content)\n",
    "    print(type(content))\n"
   ]
  },
  {
   "cell_type": "code",
   "execution_count": 7,
   "metadata": {},
   "outputs": [
    {
     "name": "stdout",
     "output_type": "stream",
     "text": [
      "raju ae raju beta\n",
      "maarunga itna pata nahi kitna\n",
      "say my name\n",
      "you are heisenberg\n",
      "you are goddamn right\n"
     ]
    }
   ],
   "source": [
    "## read a file line by line\n",
    "with open('sample.txt', 'r') as file:\n",
    "    for line in file:\n",
    "\n",
    "        # strip() function is used to remove any leading or trailing whitespaces from the line\n",
    "        print(line.strip())"
   ]
  },
  {
   "cell_type": "code",
   "execution_count": 8,
   "metadata": {},
   "outputs": [],
   "source": [
    "## writing a file\n",
    "with open('sample.txt', 'w') as file:\n",
    "\n",
    "    ## the write function will overwrite any existing contents in the file\n",
    "    file.write('Hello, this is a sample text.\\n')\n",
    "    file.write('This is the second line.\\n')"
   ]
  },
  {
   "cell_type": "code",
   "execution_count": 9,
   "metadata": {},
   "outputs": [],
   "source": [
    "## write a file without overwriting any existing content\n",
    "\n",
    "## here we are opening the file in the append mode\n",
    "with open('sample.txt', 'a') as file:\n",
    "\n",
    "    file.write('This is the third line.\\n')\n",
    "    file.write('This is the fourth line.\\n')"
   ]
  },
  {
   "cell_type": "code",
   "execution_count": 10,
   "metadata": {},
   "outputs": [],
   "source": [
    "## writing a list of lines in the file\n",
    "with open('sample.txt', 'a') as file:\n",
    "\n",
    "    file.writelines(['Hello, this is a sample text.\\n', 'This is the second line.\\n', 'This is the third line.\\n', 'This is the fourth line.\\n', 'hulka re lula hula\\n']);"
   ]
  },
  {
   "cell_type": "code",
   "execution_count": 11,
   "metadata": {},
   "outputs": [],
   "source": [
    "## operation with binary files\n",
    "\n",
    "# writing to a binary files\n",
    "data = b'\\x00\\x01\\x02\\x03\\x04'\n",
    "with open('sample.bin', 'wb') as file:\n",
    "    file.write(data)"
   ]
  },
  {
   "cell_type": "code",
   "execution_count": 12,
   "metadata": {},
   "outputs": [
    {
     "name": "stdout",
     "output_type": "stream",
     "text": [
      "b'\\x00\\x01\\x02\\x03\\x04'\n",
      "<class 'bytes'>\n"
     ]
    }
   ],
   "source": [
    "## reading the binary files\n",
    "with open('sample.bin', 'rb') as file:\n",
    "    content = file.read()\n",
    "    print(content)\n",
    "    print(type(content))"
   ]
  },
  {
   "cell_type": "code",
   "execution_count": 13,
   "metadata": {},
   "outputs": [],
   "source": [
    "## read the content from source file and write it in to the destination text file\n",
    "with open('source.txt', 'r') as source_file, open('destination.txt', 'w') as destination_file:\n",
    "    for line in source_file:\n",
    "        destination_file.write(line)"
   ]
  },
  {
   "cell_type": "code",
   "execution_count": 16,
   "metadata": {},
   "outputs": [
    {
     "name": "stdout",
     "output_type": "stream",
     "text": [
      "Hello chahcha\n",
      "this is the second line\n",
      "\n"
     ]
    }
   ],
   "source": [
    "## writing and then reading mode, if the file donot exist, it will create the file\n",
    "\n",
    "with open('example.txt', 'w+') as file:\n",
    "    file.write(\"Hello chahcha\\n\")\n",
    "    file.write(\"this is the second line\\n\")\n",
    "\n",
    "    # move the file cursor to the beginning (currently it's in the second line)\n",
    "    file.seek(0)\n",
    "\n",
    "    content = file.read()\n",
    "    print(content)"
   ]
  },
  {
   "cell_type": "code",
   "execution_count": null,
   "metadata": {},
   "outputs": [],
   "source": []
  }
 ],
 "metadata": {
  "kernelspec": {
   "display_name": "Python 3",
   "language": "python",
   "name": "python3"
  },
  "language_info": {
   "codemirror_mode": {
    "name": "ipython",
    "version": 3
   },
   "file_extension": ".py",
   "mimetype": "text/x-python",
   "name": "python",
   "nbconvert_exporter": "python",
   "pygments_lexer": "ipython3",
   "version": "3.12.0"
  }
 },
 "nbformat": 4,
 "nbformat_minor": 2
}
