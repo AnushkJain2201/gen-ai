{
 "cells": [
  {
   "cell_type": "code",
   "execution_count": 1,
   "metadata": {},
   "outputs": [
    {
     "name": "stdout",
     "output_type": "stream",
     "text": [
      "Directory '$package' created\n"
     ]
    }
   ],
   "source": [
    "## create a new directory\n",
    "import os\n",
    "new_directory = \"package\"\n",
    "\n",
    "os.mkdir(new_directory)\n",
    "print(f\"Directory '${new_directory}' created\")\n"
   ]
  },
  {
   "cell_type": "code",
   "execution_count": 3,
   "metadata": {},
   "outputs": [
    {
     "name": "stdout",
     "output_type": "stream",
     "text": [
      "Files and directories in the current directory:\n",
      "['destination.txt', '01FileOperations.ipynb', '02FilePath.ipynb', 'source.txt', 'example.txt', 'package', 'sample.txt', 'sample.bin']\n"
     ]
    }
   ],
   "source": [
    "## listing all files and directories\n",
    "items = os.listdir(\".\")\n",
    "print(\"Files and directories in the current directory:\")\n",
    "print(items)"
   ]
  },
  {
   "cell_type": "code",
   "execution_count": 5,
   "metadata": {},
   "outputs": [
    {
     "name": "stdout",
     "output_type": "stream",
     "text": [
      "Full path: folder/example.txt\n"
     ]
    }
   ],
   "source": [
    "## joining paths\n",
    "\n",
    "dir_name = \"folder\"\n",
    "file_name = \"example.txt\"\n",
    "full_path = os.path.join(dir_name, file_name)\n",
    "print(f\"Full path: {full_path}\")"
   ]
  },
  {
   "cell_type": "code",
   "execution_count": 6,
   "metadata": {},
   "outputs": [
    {
     "name": "stdout",
     "output_type": "stream",
     "text": [
      "Full path: /Users/anushkjain/Desktop/CODING/GEN_AI/01_python/05-file-handling/folder/example.txt\n"
     ]
    }
   ],
   "source": [
    "## to get absolute path\n",
    "dir_name = \"folder\"\n",
    "file_name = \"example.txt\"\n",
    "full_path = os.path.join(os.getcwd(), dir_name, file_name)\n",
    "print(f\"Full path: {full_path}\")"
   ]
  },
  {
   "cell_type": "code",
   "execution_count": 7,
   "metadata": {},
   "outputs": [
    {
     "name": "stdout",
     "output_type": "stream",
     "text": [
      "File 'example1.txt' does not exist\n"
     ]
    }
   ],
   "source": [
    "path = 'example1.txt'\n",
    "if os.path.exists(path):\n",
    "    print(f\"File '{path}' exists\")\n",
    "else:\n",
    "    print(f\"File '{path}' does not exist\")\n",
    "    "
   ]
  },
  {
   "cell_type": "code",
   "execution_count": 8,
   "metadata": {},
   "outputs": [
    {
     "name": "stdout",
     "output_type": "stream",
     "text": [
      "'folder' is neither a file nor a directory\n"
     ]
    }
   ],
   "source": [
    "# checking if the path is a file or a directory\n",
    "path = 'folder'\n",
    "if os.path.isfile(path):\n",
    "    print(f\"'{path}' is a file\")\n",
    "elif os.path.isdir(path):\n",
    "    print(f\"'{path}' is a directory\")\n",
    "else:\n",
    "    print(f\"'{path}' is neither a file nor a directory\")"
   ]
  },
  {
   "cell_type": "code",
   "execution_count": 9,
   "metadata": {},
   "outputs": [
    {
     "name": "stdout",
     "output_type": "stream",
     "text": [
      "Absolute path: /Users/anushkjain/Desktop/CODING/GEN_AI/01_python/05-file-handling/example.txt\n"
     ]
    }
   ],
   "source": [
    "# getting the absolute path\n",
    "relative_path = 'example.txt'\n",
    "absolute_path = os.path.abspath(relative_path)\n",
    "print(f\"Absolute path: {absolute_path}\")"
   ]
  },
  {
   "cell_type": "code",
   "execution_count": null,
   "metadata": {},
   "outputs": [],
   "source": []
  }
 ],
 "metadata": {
  "kernelspec": {
   "display_name": "Python 3",
   "language": "python",
   "name": "python3"
  },
  "language_info": {
   "codemirror_mode": {
    "name": "ipython",
    "version": 3
   },
   "file_extension": ".py",
   "mimetype": "text/x-python",
   "name": "python",
   "nbconvert_exporter": "python",
   "pygments_lexer": "ipython3",
   "version": "3.12.0"
  }
 },
 "nbformat": 4,
 "nbformat_minor": 2
}
