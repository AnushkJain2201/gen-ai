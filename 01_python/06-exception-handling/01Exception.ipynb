{
 "cells": [
  {
   "cell_type": "markdown",
   "metadata": {},
   "source": [
    "## Understanding Exceptions\n",
    "\n",
    "Exception handling in Python allows you to handle error gracefully and take corrective actions without stopping the execution of the program,. this lesson will cover the basics of exception, including how to use try, except, else and finally blocks."
   ]
  },
  {
   "cell_type": "markdown",
   "metadata": {},
   "source": [
    "### What are exceptions?\n",
    "\n",
    "Exception are events that disrupts the normal flow of a program. They occur when an error is encountered during program execution. Common exceptions include:\n",
    "\n",
    "1. ZeroDivisionError: When you try to divide by zero.\n",
    "2. TypeError: When an operation or function is applied to an inappropriate type.\n",
    "3. NameError: When a variable is not found in the current scope.\n",
    "4. FileNotFoundError: When a file is not found\n",
    "5. ValueError: Invalid value"
   ]
  },
  {
   "cell_type": "code",
   "execution_count": 2,
   "metadata": {},
   "outputs": [
    {
     "name": "stdout",
     "output_type": "stream",
     "text": [
      "The variable has not been assigned\n"
     ]
    }
   ],
   "source": [
    "## exception handling by try, except block (they are just like try catch block)\n",
    "try:\n",
    "    a = b\n",
    "except:\n",
    "    print(\"The variable has not been assigned\")"
   ]
  },
  {
   "cell_type": "code",
   "execution_count": 3,
   "metadata": {},
   "outputs": [
    {
     "name": "stdout",
     "output_type": "stream",
     "text": [
      "An error occurred: name 'b' is not defined\n"
     ]
    }
   ],
   "source": [
    "## displaying the error as well in the except block\n",
    "try:\n",
    "    a = b\n",
    "except NameError as e:\n",
    "    print(\"An error occurred:\", e)\n"
   ]
  },
  {
   "cell_type": "code",
   "execution_count": 5,
   "metadata": {},
   "outputs": [
    {
     "name": "stdout",
     "output_type": "stream",
     "text": [
      "Cannot divide by zero division by zero\n"
     ]
    }
   ],
   "source": [
    "try:\n",
    "    result = 1/0\n",
    "except ZeroDivisionError as e:\n",
    "    print(\"Cannot divide by zero\", e)\n",
    "    print(\"Please enter a positive denominator\")"
   ]
  },
  {
   "cell_type": "code",
   "execution_count": 7,
   "metadata": {},
   "outputs": [
    {
     "name": "stdout",
     "output_type": "stream",
     "text": [
      "An unexpected error occurred: name 'b' is not defined\n"
     ]
    }
   ],
   "source": [
    "## if there is an unknown exception\n",
    "try:\n",
    "    a = b\n",
    "except Exception as e:\n",
    "    print(\"An unexpected error occurred:\", e)\n"
   ]
  },
  {
   "cell_type": "code",
   "execution_count": 8,
   "metadata": {},
   "outputs": [
    {
     "name": "stdout",
     "output_type": "stream",
     "text": [
      "An unexpected error occurred: division by zero\n"
     ]
    }
   ],
   "source": [
    "try:\n",
    "    result = 1/0\n",
    "    a = b\n",
    "except NameError as e:\n",
    "    print(\"a variable is not defined\", e)\n",
    "except Exception as e:\n",
    "    print(\"An unexpected error occurred:\", e)"
   ]
  },
  {
   "cell_type": "code",
   "execution_count": 12,
   "metadata": {},
   "outputs": [
    {
     "name": "stdout",
     "output_type": "stream",
     "text": [
      "Invalid input. Please enter a number invalid literal for int() with base 10: 'fsdd'\n"
     ]
    }
   ],
   "source": [
    "try:\n",
    "    num = int(input(\"Enter a number\"))\n",
    "    result = 1/num\n",
    "    print(\"Result:\", result)\n",
    "except ZeroDivisionError as e:\n",
    "    print(\"Please enter a valid number\", e)\n",
    "except ValueError as e:\n",
    "    print(\"Invalid input. Please enter a number\", e)\n",
    "except Exception as e:\n",
    "    print(\"An unexpected error occurred:\", e)"
   ]
  },
  {
   "cell_type": "code",
   "execution_count": 13,
   "metadata": {},
   "outputs": [
    {
     "name": "stdout",
     "output_type": "stream",
     "text": [
      "Invalid input. Please enter a number invalid literal for int() with base 10: 'dsdsf'\n"
     ]
    }
   ],
   "source": [
    "## try, except, else (this else block will only execute if there will be no errors)\n",
    "try:\n",
    "    num = int(input(\"Enter a number\"))\n",
    "    result = 1/num\n",
    "except ValueError as e:\n",
    "    print(\"Invalid input. Please enter a number\", e)\n",
    "else:\n",
    "    print(\"Result:\", result)"
   ]
  },
  {
   "cell_type": "code",
   "execution_count": 16,
   "metadata": {},
   "outputs": [
    {
     "name": "stdout",
     "output_type": "stream",
     "text": [
      "Invalid input. Please enter a number invalid literal for int() with base 10: 'fedgft'\n",
      "This block will always execute\n"
     ]
    }
   ],
   "source": [
    "## try except else finally (final block will execute in either case)\n",
    "try:\n",
    "    num = int(input(\"Enter a number\"))\n",
    "    result = 1/num\n",
    "except ValueError as e:\n",
    "    print(\"Invalid input. Please enter a number\", e)\n",
    "else:\n",
    "    print(\"Result:\", result)\n",
    "finally:\n",
    "    print(\"This block will always execute\")"
   ]
  },
  {
   "cell_type": "code",
   "execution_count": 22,
   "metadata": {},
   "outputs": [
    {
     "name": "stdout",
     "output_type": "stream",
     "text": [
      "File closed successfully\n"
     ]
    }
   ],
   "source": [
    "## file handling and exception handling\n",
    "try:\n",
    "    file = open(\"non.txt\", \"r\")\n",
    "    content = file.read()\n",
    "except FileNotFoundError as e:\n",
    "    print(\"File not found:\", e)\n",
    "except Exception as e:\n",
    "    print(\"An unexpected error occurred:\", e)\n",
    "finally:\n",
    "    if 'file' in locals() or not file.closed():\n",
    "        file.close()\n",
    "        print(\"File closed successfully\")"
   ]
  },
  {
   "cell_type": "code",
   "execution_count": null,
   "metadata": {},
   "outputs": [],
   "source": []
  }
 ],
 "metadata": {
  "kernelspec": {
   "display_name": "Python 3",
   "language": "python",
   "name": "python3"
  },
  "language_info": {
   "codemirror_mode": {
    "name": "ipython",
    "version": 3
   },
   "file_extension": ".py",
   "mimetype": "text/x-python",
   "name": "python",
   "nbconvert_exporter": "python",
   "pygments_lexer": "ipython3",
   "version": "3.12.0"
  }
 },
 "nbformat": 4,
 "nbformat_minor": 2
}
