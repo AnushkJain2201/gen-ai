{
 "cells": [
  {
   "cell_type": "markdown",
   "metadata": {},
   "source": [
    "# Classes and Objects"
   ]
  },
  {
   "cell_type": "code",
   "execution_count": 2,
   "metadata": {},
   "outputs": [
    {
     "name": "stdout",
     "output_type": "stream",
     "text": [
      "<__main__.Car object at 0x107e892e0>\n",
      "23\n"
     ]
    }
   ],
   "source": [
    "## creating a class\n",
    "class Car:\n",
    "    pass\n",
    "\n",
    "# creating an object of the Car class\n",
    "audi = Car()\n",
    "bmw = Car()\n",
    "\n",
    "print((audi))\n",
    "\n",
    "audi.window = 23\n",
    "print((audi.window))"
   ]
  },
  {
   "cell_type": "code",
   "execution_count": 3,
   "metadata": {},
   "outputs": [
    {
     "name": "stdout",
     "output_type": "stream",
     "text": [
      "Buddy\n",
      "German Sephard\n"
     ]
    }
   ],
   "source": [
    "# instance variables\n",
    "class Dog:\n",
    "    ## constructor (self refers to the current instance variable)\n",
    "    def __init__(self, name, breed):\n",
    "        self.name = name\n",
    "        self.breed = breed\n",
    "\n",
    "# create an object\n",
    "dog = Dog(\"Buddy\", \"German Sephard\")\n",
    "print(dog.name)\n",
    "print(dog.breed)"
   ]
  },
  {
   "cell_type": "code",
   "execution_count": 4,
   "metadata": {},
   "outputs": [
    {
     "name": "stdout",
     "output_type": "stream",
     "text": [
      "The dog name is: Buddy and its breed is: German Shepherd\n"
     ]
    }
   ],
   "source": [
    "## instance methods\n",
    "class Dog:\n",
    "    def __init__(self, name, breed):\n",
    "        self.name = name\n",
    "        self.breed = breed\n",
    "    \n",
    "    def return_information(self):\n",
    "        print(f\"The dog name is: {self.name} and its breed is: {self.breed}\")\n",
    "\n",
    "\n",
    "dog = Dog(\"Buddy\", \"German Shepherd\")\n",
    "dog.return_information()"
   ]
  },
  {
   "cell_type": "code",
   "execution_count": 5,
   "metadata": {},
   "outputs": [
    {
     "name": "stdout",
     "output_type": "stream",
     "text": [
      "Deposited 1000. New balance: 1000\n",
      "Your current balance is: 1000\n",
      "Withdrew 500. New balance: 500\n",
      "Your current balance is: 500\n"
     ]
    }
   ],
   "source": [
    "## modeling a bank account\n",
    "class BankAccount:\n",
    "    def __init__(self, account_number, balance=0):\n",
    "        self.account_number = account_number\n",
    "        self.balance = balance\n",
    "    \n",
    "    def deposit(self, amount):\n",
    "        self.balance += amount\n",
    "        print(f\"Deposited {amount}. New balance: {self.balance}\")\n",
    "    \n",
    "    def withdraw(self, amount):\n",
    "        if amount <= self.balance:\n",
    "            self.balance -= amount\n",
    "            print(f\"Withdrew {amount}. New balance: {self.balance}\")\n",
    "        else:\n",
    "            print(\"Insufficient funds\")\n",
    "    \n",
    "    def check_balance(self):\n",
    "        print(f\"Your current balance is: {self.balance}\")\n",
    "\n",
    "\n",
    "account = BankAccount(\"1234\")\n",
    "account.deposit(1000)\n",
    "account.check_balance()\n",
    "account.withdraw(500)\n",
    "account.check_balance();\n"
   ]
  },
  {
   "cell_type": "code",
   "execution_count": null,
   "metadata": {},
   "outputs": [],
   "source": []
  }
 ],
 "metadata": {
  "kernelspec": {
   "display_name": "Python 3",
   "language": "python",
   "name": "python3"
  },
  "language_info": {
   "codemirror_mode": {
    "name": "ipython",
    "version": 3
   },
   "file_extension": ".py",
   "mimetype": "text/x-python",
   "name": "python",
   "nbconvert_exporter": "python",
   "pygments_lexer": "ipython3",
   "version": "3.12.0"
  }
 },
 "nbformat": 4,
 "nbformat_minor": 2
}
