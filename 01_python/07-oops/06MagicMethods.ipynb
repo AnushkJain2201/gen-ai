{
 "cells": [
  {
   "cell_type": "markdown",
   "metadata": {},
   "source": [
    "# Magic Methods\n",
    "\n",
    "Magic methods in python, also known as dunder methods (double underscore methods) are special methods that start and end with double underscore. These methods enable you to define the behavior of objects for built-in operations, such as arithmetic operations, comparisons, and more.\n",
    "\n",
    "These are predefined methods in Python that can be overridden to change the behavior of our objects. Some common methods are:\n",
    "\n"
   ]
  },
  {
   "cell_type": "code",
   "execution_count": 1,
   "metadata": {},
   "outputs": [
    {
     "data": {
      "text/plain": [
       "'\\n__init__: initialize a new instance of class\\n__str__: convert the object to a string\\n__repr__: return a string representation of the object\\n__len__: return the length of the object\\n__getitem__: gets an item from a container\\n__setitem__: sets an item in a container\\n'"
      ]
     },
     "execution_count": 1,
     "metadata": {},
     "output_type": "execute_result"
    }
   ],
   "source": [
    "'''\n",
    "__init__: initialize a new instance of class\n",
    "__str__: convert the object to a string\n",
    "__repr__: return a string representation of the object\n",
    "__len__: return the length of the object\n",
    "__getitem__: gets an item from a container\n",
    "__setitem__: sets an item in a container\n",
    "'''"
   ]
  },
  {
   "cell_type": "code",
   "execution_count": 2,
   "metadata": {},
   "outputs": [
    {
     "data": {
      "text/plain": [
       "['__class__',\n",
       " '__delattr__',\n",
       " '__dict__',\n",
       " '__dir__',\n",
       " '__doc__',\n",
       " '__eq__',\n",
       " '__format__',\n",
       " '__ge__',\n",
       " '__getattribute__',\n",
       " '__getstate__',\n",
       " '__gt__',\n",
       " '__hash__',\n",
       " '__init__',\n",
       " '__init_subclass__',\n",
       " '__le__',\n",
       " '__lt__',\n",
       " '__module__',\n",
       " '__ne__',\n",
       " '__new__',\n",
       " '__reduce__',\n",
       " '__reduce_ex__',\n",
       " '__repr__',\n",
       " '__setattr__',\n",
       " '__sizeof__',\n",
       " '__str__',\n",
       " '__subclasshook__',\n",
       " '__weakref__']"
      ]
     },
     "execution_count": 2,
     "metadata": {},
     "output_type": "execute_result"
    }
   ],
   "source": [
    "class Person:\n",
    "    pass\n",
    "\n",
    "dir(Person)"
   ]
  },
  {
   "cell_type": "code",
   "execution_count": 3,
   "metadata": {},
   "outputs": [
    {
     "name": "stdout",
     "output_type": "stream",
     "text": [
      "<__main__.Person object at 0x1069e2c30>\n"
     ]
    }
   ],
   "source": [
    "# it is due to __str__ method\n",
    "person = Person()\n",
    "print(person) # Output: <__main__.Person at 0x7f37578c39d0>"
   ]
  },
  {
   "cell_type": "code",
   "execution_count": 4,
   "metadata": {},
   "outputs": [
    {
     "name": "stdout",
     "output_type": "stream",
     "text": [
      "Person: Anushk, Age: 22\n"
     ]
    }
   ],
   "source": [
    "## Basic magic methods\n",
    "\n",
    "class Person:\n",
    "    def __init__(self, name, age):\n",
    "        self.name = name\n",
    "        self.age = age\n",
    "\n",
    "    # overridden the __str__ method\n",
    "    def __str__(self):\n",
    "        return f'Person: {self.name}, Age: {self.age}'\n",
    "\n",
    "    def __repr__(self):\n",
    "        return f'Person({self.name}, {self.age})'\n",
    "    \n",
    "person = Person(\"Anushk\", 22)\n",
    "print(person)  # Output: Person: Anushk, Age: 22"
   ]
  },
  {
   "cell_type": "code",
   "execution_count": null,
   "metadata": {},
   "outputs": [],
   "source": []
  }
 ],
 "metadata": {
  "kernelspec": {
   "display_name": "Python 3",
   "language": "python",
   "name": "python3"
  },
  "language_info": {
   "codemirror_mode": {
    "name": "ipython",
    "version": 3
   },
   "file_extension": ".py",
   "mimetype": "text/x-python",
   "name": "python",
   "nbconvert_exporter": "python",
   "pygments_lexer": "ipython3",
   "version": "3.12.0"
  }
 },
 "nbformat": 4,
 "nbformat_minor": 2
}
