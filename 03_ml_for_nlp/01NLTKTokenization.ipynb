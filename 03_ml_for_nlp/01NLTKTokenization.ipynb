{
 "cells": [
  {
   "cell_type": "markdown",
   "metadata": {},
   "source": [
    "# Tokenization Using Natural Language Toolkit (NLTK)"
   ]
  },
  {
   "cell_type": "code",
   "execution_count": 3,
   "metadata": {},
   "outputs": [
    {
     "data": {
      "text/plain": [
       "\"it's a wonderful day. but i am too blind to see it. Well, Raju is blind too, the biggest of blind. Yes yes blind.\""
      ]
     },
     "execution_count": 3,
     "metadata": {},
     "output_type": "execute_result"
    }
   ],
   "source": [
    "corpus = \"it's a wonderful day. but i am too blind to see it. Well, Raju is blind too, the biggest of blind. Yes yes blind.\"\n",
    "corpus"
   ]
  },
  {
   "cell_type": "code",
   "execution_count": 1,
   "metadata": {},
   "outputs": [
    {
     "name": "stderr",
     "output_type": "stream",
     "text": [
      "[nltk_data] Downloading package punkt to\n",
      "[nltk_data]     /Users/anushkjain/nltk_data...\n",
      "[nltk_data]   Package punkt is already up-to-date!\n",
      "[nltk_data] Downloading package punkt_tab to\n",
      "[nltk_data]     /Users/anushkjain/nltk_data...\n",
      "[nltk_data]   Package punkt_tab is already up-to-date!\n"
     ]
    },
    {
     "data": {
      "text/plain": [
       "True"
      ]
     },
     "execution_count": 1,
     "metadata": {},
     "output_type": "execute_result"
    }
   ],
   "source": [
    "## Tokenization\n",
    "## PARAGRAPH --> SENTENCE\n",
    "import nltk\n",
    "nltk.download('punkt')\n",
    "nltk.download('punkt_tab')"
   ]
  },
  {
   "cell_type": "code",
   "execution_count": 4,
   "metadata": {},
   "outputs": [
    {
     "data": {
      "text/plain": [
       "[\"it's a wonderful day.\",\n",
       " 'but i am too blind to see it.',\n",
       " 'Well, Raju is blind too, the biggest of blind.',\n",
       " 'Yes yes blind.']"
      ]
     },
     "execution_count": 4,
     "metadata": {},
     "output_type": "execute_result"
    }
   ],
   "source": [
    "from nltk.tokenize import sent_tokenize\n",
    "## this sent_tokenize will return a list of sentences formed from the corpus\n",
    "sentences = sent_tokenize(corpus)\n",
    "sentences"
   ]
  },
  {
   "cell_type": "code",
   "execution_count": 5,
   "metadata": {},
   "outputs": [
    {
     "name": "stdout",
     "output_type": "stream",
     "text": [
      "it's a wonderful day.\n",
      "but i am too blind to see it.\n",
      "Well, Raju is blind too, the biggest of blind.\n",
      "Yes yes blind.\n"
     ]
    }
   ],
   "source": [
    "for sentence in sentences:\n",
    "    print(sentence)"
   ]
  },
  {
   "cell_type": "code",
   "execution_count": 6,
   "metadata": {},
   "outputs": [
    {
     "data": {
      "text/plain": [
       "['it',\n",
       " \"'s\",\n",
       " 'a',\n",
       " 'wonderful',\n",
       " 'day',\n",
       " '.',\n",
       " 'but',\n",
       " 'i',\n",
       " 'am',\n",
       " 'too',\n",
       " 'blind',\n",
       " 'to',\n",
       " 'see',\n",
       " 'it',\n",
       " '.',\n",
       " 'Well',\n",
       " ',',\n",
       " 'Raju',\n",
       " 'is',\n",
       " 'blind',\n",
       " 'too',\n",
       " ',',\n",
       " 'the',\n",
       " 'biggest',\n",
       " 'of',\n",
       " 'blind',\n",
       " '.',\n",
       " 'Yes',\n",
       " 'yes',\n",
       " 'blind',\n",
       " '.']"
      ]
     },
     "execution_count": 6,
     "metadata": {},
     "output_type": "execute_result"
    }
   ],
   "source": [
    "## Tokenization\n",
    "## PARAGRAPH --> WORDS\n",
    "## SENTENCE --> WORDS\n",
    "\n",
    "from nltk.tokenize import word_tokenize\n",
    "para_words = word_tokenize(corpus)\n",
    "para_words"
   ]
  },
  {
   "cell_type": "code",
   "execution_count": 7,
   "metadata": {},
   "outputs": [
    {
     "name": "stdout",
     "output_type": "stream",
     "text": [
      "['it', \"'s\", 'a', 'wonderful', 'day', '.']\n",
      "\n",
      "['but', 'i', 'am', 'too', 'blind', 'to', 'see', 'it', '.']\n",
      "\n",
      "['Well', ',', 'Raju', 'is', 'blind', 'too', ',', 'the', 'biggest', 'of', 'blind', '.']\n",
      "\n",
      "['Yes', 'yes', 'blind', '.']\n",
      "\n"
     ]
    }
   ],
   "source": [
    "for sentence in sentences:\n",
    "    words = word_tokenize(sentence)\n",
    "    print(words)\n",
    "    print()\n"
   ]
  },
  {
   "cell_type": "code",
   "execution_count": 8,
   "metadata": {},
   "outputs": [
    {
     "data": {
      "text/plain": [
       "['it',\n",
       " \"'\",\n",
       " 's',\n",
       " 'a',\n",
       " 'wonderful',\n",
       " 'day',\n",
       " '.',\n",
       " 'but',\n",
       " 'i',\n",
       " 'am',\n",
       " 'too',\n",
       " 'blind',\n",
       " 'to',\n",
       " 'see',\n",
       " 'it',\n",
       " '.',\n",
       " 'Well',\n",
       " ',',\n",
       " 'Raju',\n",
       " 'is',\n",
       " 'blind',\n",
       " 'too',\n",
       " ',',\n",
       " 'the',\n",
       " 'biggest',\n",
       " 'of',\n",
       " 'blind',\n",
       " '.',\n",
       " 'Yes',\n",
       " 'yes',\n",
       " 'blind',\n",
       " '.']"
      ]
     },
     "execution_count": 8,
     "metadata": {},
     "output_type": "execute_result"
    }
   ],
   "source": [
    "from nltk.tokenize import wordpunct_tokenize\n",
    "wordpunct_tokenize(corpus)"
   ]
  },
  {
   "cell_type": "code",
   "execution_count": 26,
   "metadata": {},
   "outputs": [
    {
     "data": {
      "text/plain": [
       "['it',\n",
       " \"'s\",\n",
       " 'a',\n",
       " 'wonderful',\n",
       " 'day.',\n",
       " 'but',\n",
       " 'i',\n",
       " 'am',\n",
       " 'too',\n",
       " 'blind',\n",
       " 'to',\n",
       " 'see',\n",
       " 'it.',\n",
       " 'Well',\n",
       " ',',\n",
       " 'Raju',\n",
       " 'is',\n",
       " 'blind',\n",
       " 'too',\n",
       " ',',\n",
       " 'the',\n",
       " 'biggest',\n",
       " 'of',\n",
       " 'blind',\n",
       " '.']"
      ]
     },
     "execution_count": 26,
     "metadata": {},
     "output_type": "execute_result"
    }
   ],
   "source": [
    "from nltk.tokenize import TreebankWordTokenizer\n",
    "tokenizer = TreebankWordTokenizer()\n",
    "tokenizer.tokenize(corpus)"
   ]
  },
  {
   "cell_type": "code",
   "execution_count": null,
   "metadata": {},
   "outputs": [],
   "source": []
  }
 ],
 "metadata": {
  "kernelspec": {
   "display_name": "Python 3",
   "language": "python",
   "name": "python3"
  },
  "language_info": {
   "codemirror_mode": {
    "name": "ipython",
    "version": 3
   },
   "file_extension": ".py",
   "mimetype": "text/x-python",
   "name": "python",
   "nbconvert_exporter": "python",
   "pygments_lexer": "ipython3",
   "version": "3.12.8"
  }
 },
 "nbformat": 4,
 "nbformat_minor": 2
}
