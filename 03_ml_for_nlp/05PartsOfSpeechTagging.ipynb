{
 "cells": [
  {
   "cell_type": "code",
   "execution_count": 1,
   "metadata": {},
   "outputs": [],
   "source": [
    "paragraph = \"\"\" I have three visions for India. In 3000 years of our history people from all over the world have come and invaded us, captured our lands, conquered our minds. From Alexander onwards the Greeks, the Turks, the Moguls, the Portuguese, the British, the French, the Dutch, all of them came and looted us, took over what was ours. Yet we have not done this to any other nation. We have not conquered anyone. We have not grabbed their land, their culture and their history and tried to enforce our way of life on them. Why? Because we respect the freedom of others. That is why my FIRST VISION is that of FREEDOM. I believe that India got its first vision of this in 1857, when we started the war of Independence. It is this freedom that we must protect and nurture and build on. If we are not free, no one will respect us.\n",
    "We have 10 percent growth rate in most areas. Our poverty levels are falling. Our achievements are being globally recognised today. Yet we lack the self-confidence to see ourselves as a developed nation, self-reliant and self-assured. Isn’t this incorrect? MY SECOND VISION for India is DEVELOPMENT. For fifty years we have been a developing nation. It is time we see ourselves as a developed nation. We are among top five nations in the world in terms of GDP.\n",
    "I have a THIRD VISION. India must stand up to the world. Because I believe that unless India stands up to the world, no one will respect us. Only strength respects strength. We must be strong not only as a military power but also as an economic power. Both must go hand-in-hand. My good fortune was to have worked with three great minds. Dr.Vikram Sarabhai, of the Dept. of Space, Professor Satish Dhawan, who succeeded him and Dr. Brahm Prakash, father of nuclear material. I was lucky to have worked with all three of them closely and consider this the great opportunity of my life.\n",
    "I was in Hyderabad giving this lecture, when a 14 year-old girl asked me for my autograph. I asked her what her goal in life is. She replied: I want to live in a developed India. For her, you and I will have to build this developed India. You must proclaim India is not an underdeveloped nation; it is a highly developed nation.\n",
    "You say that our government is inefficient. You say that our laws are too old. You say that the municipality does not pick up the garbage. You say that the phones don't work, the railways are a joke, the airline is the worst in the world, and mails never reach their destination. You say that our country has been fed to the dogs and is the absolute pits. You say, say and say. What do you do about it?\n",
    "Dear Indians, I am echoing J.F.Kennedy's words to his fellow Americans to relate to Indians ……. “ASK WHAT WE CAN DO FOR INDIA AND DO WHAT HAS TO BE DONE TO MAKE INDIA WHAT AMERICA AND OTHER WESTERN COUNTRIES ARE TODAY.”\n",
    "\"\"\""
   ]
  },
  {
   "cell_type": "code",
   "execution_count": 6,
   "metadata": {},
   "outputs": [
    {
     "name": "stderr",
     "output_type": "stream",
     "text": [
      "[nltk_data] Downloading package averaged_perceptron_tagger_eng to\n",
      "[nltk_data]     /Users/anushkjain/nltk_data...\n",
      "[nltk_data]   Unzipping taggers/averaged_perceptron_tagger_eng.zip.\n"
     ]
    },
    {
     "data": {
      "text/plain": [
       "True"
      ]
     },
     "execution_count": 6,
     "metadata": {},
     "output_type": "execute_result"
    }
   ],
   "source": [
    "import nltk\n",
    "from nltk.corpus import stopwords\n",
    "nltk.download('averaged_perceptron_tagger_eng')"
   ]
  },
  {
   "cell_type": "code",
   "execution_count": 4,
   "metadata": {},
   "outputs": [
    {
     "data": {
      "text/plain": [
       "[' I have three visions for India.',\n",
       " 'In 3000 years of our history people from all over the world have come and invaded us, captured our lands, conquered our minds.',\n",
       " 'From Alexander onwards the Greeks, the Turks, the Moguls, the Portuguese, the British, the French, the Dutch, all of them came and looted us, took over what was ours.',\n",
       " 'Yet we have not done this to any other nation.',\n",
       " 'We have not conquered anyone.',\n",
       " 'We have not grabbed their land, their culture and their history and tried to enforce our way of life on them.',\n",
       " 'Why?',\n",
       " 'Because we respect the freedom of others.',\n",
       " 'That is why my FIRST VISION is that of FREEDOM.',\n",
       " 'I believe that India got its first vision of this in 1857, when we started the war of Independence.',\n",
       " 'It is this freedom that we must protect and nurture and build on.',\n",
       " 'If we are not free, no one will respect us.',\n",
       " 'We have 10 percent growth rate in most areas.',\n",
       " 'Our poverty levels are falling.',\n",
       " 'Our achievements are being globally recognised today.',\n",
       " 'Yet we lack the self-confidence to see ourselves as a developed nation, self-reliant and self-assured.',\n",
       " 'Isn’t this incorrect?',\n",
       " 'MY SECOND VISION for India is DEVELOPMENT.',\n",
       " 'For fifty years we have been a developing nation.',\n",
       " 'It is time we see ourselves as a developed nation.',\n",
       " 'We are among top five nations in the world in terms of GDP.',\n",
       " 'I have a THIRD VISION.',\n",
       " 'India must stand up to the world.',\n",
       " 'Because I believe that unless India stands up to the world, no one will respect us.',\n",
       " 'Only strength respects strength.',\n",
       " 'We must be strong not only as a military power but also as an economic power.',\n",
       " 'Both must go hand-in-hand.',\n",
       " 'My good fortune was to have worked with three great minds.',\n",
       " 'Dr.Vikram Sarabhai, of the Dept.',\n",
       " 'of Space, Professor Satish Dhawan, who succeeded him and Dr. Brahm Prakash, father of nuclear material.',\n",
       " 'I was lucky to have worked with all three of them closely and consider this the great opportunity of my life.',\n",
       " 'I was in Hyderabad giving this lecture, when a 14 year-old girl asked me for my autograph.',\n",
       " 'I asked her what her goal in life is.',\n",
       " 'She replied: I want to live in a developed India.',\n",
       " 'For her, you and I will have to build this developed India.',\n",
       " 'You must proclaim India is not an underdeveloped nation; it is a highly developed nation.',\n",
       " 'You say that our government is inefficient.',\n",
       " 'You say that our laws are too old.',\n",
       " 'You say that the municipality does not pick up the garbage.',\n",
       " \"You say that the phones don't work, the railways are a joke, the airline is the worst in the world, and mails never reach their destination.\",\n",
       " 'You say that our country has been fed to the dogs and is the absolute pits.',\n",
       " 'You say, say and say.',\n",
       " 'What do you do about it?',\n",
       " \"Dear Indians, I am echoing J.F.Kennedy's words to his fellow Americans to relate to Indians …….\",\n",
       " '“ASK WHAT WE CAN DO FOR INDIA AND DO WHAT HAS TO BE DONE TO MAKE INDIA WHAT AMERICA AND OTHER WESTERN COUNTRIES ARE TODAY.”']"
      ]
     },
     "execution_count": 4,
     "metadata": {},
     "output_type": "execute_result"
    }
   ],
   "source": [
    "sentences = nltk.sent_tokenize(paragraph)\n",
    "sentences"
   ]
  },
  {
   "cell_type": "code",
   "execution_count": 22,
   "metadata": {},
   "outputs": [
    {
     "name": "stdout",
     "output_type": "stream",
     "text": [
      "[('three', 'CD'), ('visions', 'NNS'), ('india', 'VBP'), ('.', '.')]\n",
      "[('3000', 'CD'), ('years', 'NNS'), ('history', 'NN'), ('people', 'NNS'), ('world', 'NN'), ('come', 'VBP'), ('invaded', 'VBN'), ('us', 'PRP'), (',', ','), ('captured', 'VBD'), ('lands', 'NNS'), (',', ','), ('conquered', 'VBD'), ('minds', 'NNS'), ('.', '.')]\n",
      "[('alexander', 'NN'), ('onwards', 'NNS'), ('greeks', 'NN'), (',', ','), ('turks', 'NNS'), (',', ','), ('moguls', 'NNS'), (',', ','), ('portuguese', 'JJ'), (',', ','), ('british', 'JJ'), (',', ','), ('french', 'JJ'), (',', ','), ('dutch', 'VB'), (',', ','), ('came', 'VBD'), ('looted', 'JJ'), ('us', 'PRP'), (',', ','), ('took', 'VBD'), ('.', '.')]\n",
      "[('yet', 'RB'), ('done', 'VBN'), ('nation', 'NN'), ('.', '.')]\n",
      "[('conquered', 'VBN'), ('anyone', 'NN'), ('.', '.')]\n",
      "[('grabbed', 'JJ'), ('land', 'NN'), (',', ','), ('culture', 'NN'), ('history', 'NN'), ('tried', 'VBD'), ('enforce', 'JJ'), ('way', 'NN'), ('life', 'NN'), ('.', '.')]\n",
      "[('?', '.')]\n",
      "[('respect', 'NN'), ('freedom', 'NN'), ('others', 'NNS'), ('.', '.')]\n",
      "[('first', 'JJ'), ('vision', 'NN'), ('freedom', 'NN'), ('.', '.')]\n",
      "[('believe', 'VB'), ('india', 'NN'), ('got', 'VBD'), ('first', 'JJ'), ('vision', 'NN'), ('1857', 'CD'), (',', ','), ('started', 'VBD'), ('war', 'NN'), ('independence', 'NN'), ('.', '.')]\n",
      "[('freedom', 'NN'), ('must', 'MD'), ('protect', 'VB'), ('nurture', 'NN'), ('build', 'NN'), ('.', '.')]\n",
      "[('free', 'JJ'), (',', ','), ('one', 'CD'), ('respect', 'NN'), ('us', 'PRP'), ('.', '.')]\n",
      "[('10', 'CD'), ('percent', 'JJ'), ('growth', 'NN'), ('rate', 'NN'), ('areas', 'NNS'), ('.', '.')]\n",
      "[('poverty', 'NN'), ('levels', 'NNS'), ('falling', 'VBG'), ('.', '.')]\n",
      "[('achievements', 'NNS'), ('globally', 'RB'), ('recognised', 'VBN'), ('today', 'NN'), ('.', '.')]\n",
      "[('yet', 'RB'), ('lack', 'JJ'), ('self-confidence', 'NN'), ('see', 'NN'), ('developed', 'JJ'), ('nation', 'NN'), (',', ','), ('self-reliant', 'JJ'), ('self-assured', 'JJ'), ('.', '.')]\n",
      "[('’', 'NN'), ('incorrect', 'NN'), ('?', '.')]\n",
      "[('second', 'JJ'), ('vision', 'NN'), ('india', 'NN'), ('development', 'NN'), ('.', '.')]\n",
      "[('fifty', 'JJ'), ('years', 'NNS'), ('developing', 'VBG'), ('nation', 'NN'), ('.', '.')]\n",
      "[('time', 'NN'), ('see', 'VB'), ('developed', 'JJ'), ('nation', 'NN'), ('.', '.')]\n",
      "[('among', 'IN'), ('top', 'JJ'), ('five', 'CD'), ('nations', 'NNS'), ('world', 'NN'), ('terms', 'NNS'), ('gdp', 'VBP'), ('.', '.')]\n",
      "[('third', 'JJ'), ('vision', 'NN'), ('.', '.')]\n",
      "[('india', 'NN'), ('must', 'MD'), ('stand', 'VB'), ('world', 'NN'), ('.', '.')]\n",
      "[('believe', 'VB'), ('unless', 'IN'), ('india', 'JJ'), ('stands', 'NNS'), ('world', 'NN'), (',', ','), ('one', 'CD'), ('respect', 'NN'), ('us', 'PRP'), ('.', '.')]\n",
      "[('strength', 'NN'), ('respects', 'NNS'), ('strength', 'NN'), ('.', '.')]\n",
      "[('must', 'MD'), ('strong', 'JJ'), ('military', 'JJ'), ('power', 'NN'), ('also', 'RB'), ('economic', 'JJ'), ('power', 'NN'), ('.', '.')]\n",
      "[('must', 'MD'), ('go', 'VB'), ('hand-in-hand', 'NN'), ('.', '.')]\n",
      "[('good', 'JJ'), ('fortune', 'NN'), ('worked', 'VBD'), ('three', 'CD'), ('great', 'JJ'), ('minds', 'NNS'), ('.', '.')]\n",
      "[('dr.vikram', 'NN'), ('sarabhai', 'NN'), (',', ','), ('dept', 'NN'), ('.', '.')]\n",
      "[('space', 'NN'), (',', ','), ('professor', 'NN'), ('satish', 'JJ'), ('dhawan', 'NN'), (',', ','), ('succeeded', 'VBD'), ('dr.', 'NN'), ('brahm', 'NN'), ('prakash', 'NN'), (',', ','), ('father', 'RB'), ('nuclear', 'JJ'), ('material', 'NN'), ('.', '.')]\n",
      "[('lucky', 'JJ'), ('worked', 'VBD'), ('three', 'CD'), ('closely', 'RB'), ('consider', 'VBP'), ('great', 'JJ'), ('opportunity', 'NN'), ('life', 'NN'), ('.', '.')]\n",
      "[('hyderabad', 'NN'), ('giving', 'VBG'), ('lecture', 'NN'), (',', ','), ('14', 'CD'), ('year-old', 'JJ'), ('girl', 'NN'), ('asked', 'VBD'), ('autograph', 'NN'), ('.', '.')]\n",
      "[('asked', 'VBN'), ('goal', 'NN'), ('life', 'NN'), ('.', '.')]\n",
      "[('replied', 'VBN'), (':', ':'), ('want', 'JJ'), ('live', 'NN'), ('developed', 'VBD'), ('india', 'NN'), ('.', '.')]\n",
      "[(',', ','), ('build', 'VB'), ('developed', 'JJ'), ('india', 'NN'), ('.', '.')]\n",
      "[('must', 'MD'), ('proclaim', 'VB'), ('india', 'NN'), ('underdeveloped', 'JJ'), ('nation', 'NN'), (';', ':'), ('highly', 'RB'), ('developed', 'JJ'), ('nation', 'NN'), ('.', '.')]\n",
      "[('say', 'VB'), ('government', 'NN'), ('inefficient', 'NN'), ('.', '.')]\n",
      "[('say', 'VB'), ('laws', 'NNS'), ('old', 'JJ'), ('.', '.')]\n",
      "[('say', 'VBP'), ('municipality', 'NN'), ('pick', 'JJ'), ('garbage', 'NN'), ('.', '.')]\n",
      "[('say', 'VB'), ('phones', 'NNS'), (\"n't\", 'RB'), ('work', 'VB'), (',', ','), ('railways', 'NNS'), ('joke', 'VBD'), (',', ','), ('airline', 'NN'), ('worst', 'JJS'), ('world', 'NN'), (',', ','), ('mails', 'NNS'), ('never', 'RB'), ('reach', 'VBP'), ('destination', 'NN'), ('.', '.')]\n",
      "[('say', 'VB'), ('country', 'NN'), ('fed', 'JJ'), ('dogs', 'NNS'), ('absolute', 'VBP'), ('pits', 'NNS'), ('.', '.')]\n",
      "[('say', 'NN'), (',', ','), ('say', 'VBP'), ('say', 'UH'), ('.', '.')]\n",
      "[('?', '.')]\n",
      "[('dear', 'JJ'), ('indians', 'NNS'), (',', ','), ('echoing', 'VBG'), ('j.f.kennedy', 'NN'), (\"'s\", 'POS'), ('words', 'NNS'), ('fellow', 'JJ'), ('americans', 'NNS'), ('relate', 'VBP'), ('indians', 'NNS'), ('……', 'VBP'), ('.', '.')]\n",
      "[('“', 'JJ'), ('ask', 'NN'), ('india', 'NN'), ('done', 'VBN'), ('make', 'VBP'), ('india', 'NN'), ('america', 'NN'), ('western', 'JJ'), ('countries', 'NNS'), ('today', 'NN'), ('.', '.'), ('”', 'NN')]\n"
     ]
    }
   ],
   "source": [
    "for i in range(len(sentences)):\n",
    "    words = nltk.word_tokenize(sentences[i])\n",
    "    filtered_words = [word.lower() for word in words if word.lower() not in stopwords.words('english')]\n",
    "    poss_tag = nltk.pos_tag(filtered_words)\n",
    "    print(poss_tag)"
   ]
  },
  {
   "cell_type": "code",
   "execution_count": 23,
   "metadata": {},
   "outputs": [
    {
     "data": {
      "text/plain": [
       "'Taj Mahal is UNESCO World Heritage Site'"
      ]
     },
     "execution_count": 23,
     "metadata": {},
     "output_type": "execute_result"
    }
   ],
   "source": [
    "sentence = (\"Taj Mahal is UNESCO World Heritage Site\")\n",
    "sentence"
   ]
  },
  {
   "cell_type": "code",
   "execution_count": 27,
   "metadata": {},
   "outputs": [
    {
     "name": "stdout",
     "output_type": "stream",
     "text": [
      "[('Taj', 'NN')]\n",
      "[('Mahal', 'NN')]\n",
      "[('is', 'VBZ')]\n",
      "[('UNESCO', 'NNP')]\n",
      "[('World', 'NN')]\n",
      "[('Heritage', 'NN')]\n",
      "[('Site', 'NN')]\n"
     ]
    }
   ],
   "source": [
    "for i in sentence.split():\n",
    "    words = nltk.word_tokenize(i)\n",
    "    # filtered_words = [word.lower() for word in words if word.lower() not in stopwords.words('english')]\n",
    "    poss_tag = nltk.pos_tag(words)\n",
    "    print(poss_tag)"
   ]
  },
  {
   "cell_type": "code",
   "execution_count": null,
   "metadata": {},
   "outputs": [],
   "source": []
  },
  {
   "cell_type": "code",
   "execution_count": null,
   "metadata": {},
   "outputs": [],
   "source": []
  }
 ],
 "metadata": {
  "kernelspec": {
   "display_name": "Python 3",
   "language": "python",
   "name": "python3"
  },
  "language_info": {
   "codemirror_mode": {
    "name": "ipython",
    "version": 3
   },
   "file_extension": ".py",
   "mimetype": "text/x-python",
   "name": "python",
   "nbconvert_exporter": "python",
   "pygments_lexer": "ipython3",
   "version": "3.12.8"
  }
 },
 "nbformat": 4,
 "nbformat_minor": 2
}
